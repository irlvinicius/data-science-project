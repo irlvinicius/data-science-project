{
 "cells": [
  {
   "cell_type": "markdown",
   "id": "81320d4d",
   "metadata": {},
   "source": [
    "### ENTREGA DOS ARTEFATOS E ATIVIDADES: PARTE II – MACHINE LEARNING COM PYTHON\n",
    "\n",
    "(COLAB GOOGLE) E JUPYTER NOTEBOOKS.\n",
    "\n",
    "**02 – Construir um novo projeto de Machine Learning com os seguintes itens:**\n",
    "\n",
    "Escolher um Dataset com o Kaggle Dataset.\n",
    "\n",
    "Construir um código com python que implemente um Modelo de Machine Learning de **Classificação Binária**, escolha o algoritimo e faça o processo de Validação e Avaliação do Modelo de Machine Learning com Acurácia, precisão, F1 Score e Matriz de Confusão."
   ]
  },
  {
   "cell_type": "markdown",
   "id": "9e0ddd0f",
   "metadata": {},
   "source": []
  }
 ],
 "metadata": {
  "language_info": {
   "name": "python"
  }
 },
 "nbformat": 4,
 "nbformat_minor": 5
}
